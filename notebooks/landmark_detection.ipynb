# 🏛️ Landmark Detection with Machine Learning
# Author: Disha Chakraborty
# Date: October 2025

# --- Step 1: Import Libraries ---
import os
import numpy as np
import matplotlib.pyplot as plt
import tensorflow as tf
from tensorflow.keras.preprocessing.image import ImageDataGenerator
from tensorflow.keras import layers, models
from sklearn.metrics import classification_report, confusion_matrix
from src.utils import plot_training_history, summarize_model
from src.config import *

print("✅ Libraries loaded successfully!")

# --- Step 2: Check GPU availability ---
print("🔍 Checking TensorFlow device configuration:")
print(tf.config.list_physical_devices('GPU'))

# --- Step 3: Data Preprocessing ---
train_gen = ImageDataGenerator(
    rescale=1./255,
    rotation_range=25,
    zoom_range=0.2,
    shear_range=0.2,
    horizontal_flip=True
)

val_gen = ImageDataGenerator(rescale=1./255)

train_data = train_gen.flow_from_directory(
    TRAIN_DIR,
    target_size=(IMG_HEIGHT, IMG_WIDTH),
    batch_size=BATCH_SIZE,
    class_mode=CLASS_MODE
)

val_data = val_gen.flow_from_directory(
    VAL_DIR,
    target_size=(IMG_HEIGHT, IMG_WIDTH),
    batch_size=BATCH_SIZE,
    class_mode=CLASS_MODE
)

print(f"📊 Classes detected: {train_data.class_indices}")

# --- Step 4: Visualize Sample Images ---
sample_images, sample_labels = next(train_data)
plt.figure(figsize=(8, 8))
for i in range(9):
    plt.subplot(3, 3, i + 1)
    plt.imshow(sample_images[i])
    plt.title(list(train_data.class_indices.keys())[np.argmax(sample_labels[i])])
    plt.axis('off')
plt.suptitle("Sample Landmark Images")
plt.show()

# --- Step 5: Build CNN Model ---
model = models.Sequential([
    layers.Conv2D(32, (3,3), activation='relu', input_shape=(IMG_HEIGHT, IMG_WIDTH, CHANNELS)),
    layers.MaxPooling2D(2,2),
    layers.Conv2D(64, (3,3), activation='relu'),
    layers.MaxPooling2D(2,2),
    layers.Conv2D(128, (3,3), activation='relu'),
    layers.MaxPooling2D(2,2),
    layers.Flatten(),
    layers.Dense(512, activation='relu'),
    layers.Dropout(0.3),
    layers.Dense(train_data.num_classes, activation='softmax')
])

model.compile(optimizer='adam', loss='categorical_crossentropy', metrics=['accuracy'])
summarize_model(model)

# --- Step 6: Train the Model ---
history = model.fit(
    train_data,
    validation_data=val_data,
    epochs=EPOCHS
)

# --- Step 7: Save the Model ---
os.makedirs('models', exist_ok=True)
model.save(MODEL_PATH)
print(f"✅ Model saved at {MODEL_PATH}")

# --- Step 8: Plot Training History ---
plot_training_history(history)

# --- Step 9: Evaluate Model on Validation Set ---
val_loss, val_acc = model.evaluate(val_data)
print(f"📈 Validation Accuracy: {val_acc:.2f}")

# --- Step 10: Classification Report ---
val_preds = model.predict(val_data)
y_true = val_data.classes
y_pred = np.argmax(val_preds, axis=1)

print("\n🧾 Classification Report:")
print(classification_report(y_true, y_pred, target_names=list(train_data.class_indices.keys())))

# --- Step 11: Confusion Matrix Visualization ---
cm = confusion_matrix(y_true, y_pred)
plt.figure(figsize=(8, 6))
plt.imshow(cm, cmap='Blues')
plt.title("Confusion Matrix")
plt.colorbar()
plt.xlabel("Predicted")
plt.ylabel("True")
plt.show()

# --- Step 12: Predict on Custom Image ---
from tensorflow.keras.preprocessing import image

test_img_path = 'data/test/sample.jpg'  # Replace with your own
img = image.load_img(test_img_path, target_size=(IMG_HEIGHT, IMG_WIDTH))
img_array = image.img_to_array(img) / 255.0
img_array = np.expand_dims(img_array, axis=0)

prediction = model.predict(img_array)
predicted_class = list(train_data.class_indices.keys())[np.argmax(prediction)]
print(f"🏛️ Predicted Landmark: {predicted_class}")
